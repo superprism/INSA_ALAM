{
 "cells": [
  {
   "cell_type": "code",
   "execution_count": 78,
   "metadata": {
    "collapsed": false
   },
   "outputs": [
    {
     "name": "stdout",
     "output_type": "stream",
     "text": [
      "[[1 2 3]\n",
      " [4 5 6]\n",
      " [7 8 9]]\n",
      "[[ 1.  1.  1.]\n",
      " [ 1.  1.  1.]\n",
      " [ 1.  1.  1.]]\n",
      "6\n",
      "1.0\n",
      "[[ 5.  3.  4. ...,  0.  0.  0.]\n",
      " [ 4.  0.  0. ...,  0.  0.  0.]\n",
      " [ 0.  0.  0. ...,  0.  0.  0.]\n",
      " ..., \n",
      " [ 5.  0.  0. ...,  0.  0.  0.]\n",
      " [ 0.  0.  0. ...,  0.  0.  0.]\n",
      " [ 0.  5.  0. ...,  0.  0.  0.]]\n",
      "[[ 5.  3.  4. ...,  0.  0.  0.]]\n"
     ]
    },
    {
     "name": "stderr",
     "output_type": "stream",
     "text": [
      "/home/blac/anaconda2/lib/python2.7/site-packages/ipykernel/__main__.py:22: DeprecationWarning: using a non-integer number instead of an integer will result in an error in the future\n"
     ]
    },
    {
     "ename": "ValueError",
     "evalue": "The truth value of an array with more than one element is ambiguous. Use a.any() or a.all()",
     "output_type": "error",
     "traceback": [
      "\u001b[1;31m---------------------------------------------------------------------------\u001b[0m",
      "\u001b[1;31mValueError\u001b[0m                                Traceback (most recent call last)",
      "\u001b[1;32m<ipython-input-78-dda90623aa89>\u001b[0m in \u001b[0;36m<module>\u001b[1;34m()\u001b[0m\n\u001b[0;32m     91\u001b[0m \u001b[1;32mprint\u001b[0m \u001b[0mmat_u_i\u001b[0m\u001b[1;33m\u001b[0m\u001b[0m\n\u001b[0;32m     92\u001b[0m \u001b[1;33m\u001b[0m\u001b[0m\n\u001b[1;32m---> 93\u001b[1;33m \u001b[0mmat_cu\u001b[0m \u001b[1;33m=\u001b[0m \u001b[0mremplissage_moyenne_user\u001b[0m\u001b[1;33m(\u001b[0m\u001b[0mmat_u_i\u001b[0m\u001b[1;33m)\u001b[0m\u001b[1;33m\u001b[0m\u001b[0m\n\u001b[0m\u001b[0;32m     94\u001b[0m \u001b[1;33m\u001b[0m\u001b[0m\n\u001b[0;32m     95\u001b[0m \u001b[1;33m\u001b[0m\u001b[0m\n",
      "\u001b[1;32m<ipython-input-78-dda90623aa89>\u001b[0m in \u001b[0;36mremplissage_moyenne_user\u001b[1;34m(mat_ui)\u001b[0m\n\u001b[0;32m     56\u001b[0m             \u001b[1;32mprint\u001b[0m \u001b[0mmat_ui\u001b[0m\u001b[1;33m[\u001b[0m\u001b[0ml\u001b[0m\u001b[1;33m]\u001b[0m\u001b[1;33m[\u001b[0m\u001b[0mit\u001b[0m\u001b[1;33m]\u001b[0m\u001b[1;33m\u001b[0m\u001b[0m\n\u001b[0;32m     57\u001b[0m \u001b[1;33m\u001b[0m\u001b[0m\n\u001b[1;32m---> 58\u001b[1;33m             \u001b[1;32mif\u001b[0m \u001b[0mmat_ui\u001b[0m\u001b[1;33m[\u001b[0m\u001b[0ml\u001b[0m\u001b[1;33m]\u001b[0m\u001b[1;33m[\u001b[0m\u001b[0mit\u001b[0m\u001b[1;33m]\u001b[0m \u001b[1;33m<>\u001b[0m \u001b[1;36m0\u001b[0m \u001b[1;33m:\u001b[0m\u001b[1;33m\u001b[0m\u001b[0m\n\u001b[0m\u001b[0;32m     59\u001b[0m \u001b[1;33m\u001b[0m\u001b[0m\n\u001b[0;32m     60\u001b[0m                 \u001b[0mN\u001b[0m \u001b[1;33m+=\u001b[0m \u001b[1;36m1\u001b[0m\u001b[1;33m\u001b[0m\u001b[0m\n",
      "\u001b[1;31mValueError\u001b[0m: The truth value of an array with more than one element is ambiguous. Use a.any() or a.all()"
     ]
    }
   ],
   "source": [
    "import csv\n",
    "import numpy as np\n",
    "%matplotlib inline\n",
    "import matplotlib.pyplot as plt\n",
    "import pylab as pl\n",
    "\n",
    "\n",
    "\n",
    "def matrice_user_item( nFile, nbUser, nbFilm) :\n",
    "    \n",
    "    mat = np.zeros((nbUser, nbFilm))\n",
    "    \n",
    "    # (<id utilisateur>, <id film>, <rating>, <date>)\n",
    "    mat1 = np.genfromtxt(nFile, delimiter = \"\t\")\n",
    "    \n",
    "    for j in xrange(len(mat1)) :\n",
    "        \n",
    "            user = mat1[j][0]\n",
    "            film = mat1[j][1]\n",
    "            rating = mat1[j][2]\n",
    "            \n",
    "            mat[user-1][film-1] = rating\n",
    "    \n",
    "    return np.matrix(mat)\n",
    "    \n",
    "def check_data(nFile) :\n",
    "    \n",
    "    mat1 = np.genfromtxt(nFile, delimiter = \"\t\", dtype = int)\n",
    "    \n",
    "    users = []\n",
    "    items = []\n",
    "    \n",
    "    for j in xrange(len(mat1)) :\n",
    "        \n",
    "        if not mat1[j][0] in users :\n",
    "            \n",
    "            users += [mat1[j][0]]\n",
    "            \n",
    "        if not mat1[j][1] in items :\n",
    "            \n",
    "            items += [mat1[j][1]]\n",
    "            \n",
    "    return (len(users), len(items))\n",
    "\n",
    "def remplissage_moyenne_user(mat_ui) :\n",
    "    \n",
    "    H = len(mat_ui)\n",
    "    L = len(mat_ui[0])\n",
    "    \n",
    "    for l in xrange(H) :\n",
    "        \n",
    "        N, S = (0.0,0.0)\n",
    "        \n",
    "        for it in xrange(L) :\n",
    "                \n",
    "            print mat_ui[l][it]\n",
    "            \n",
    "            if mat_ui[l][it] <> 0 :\n",
    "                \n",
    "                N += 1\n",
    "                S += mat_ui[l][it]\n",
    "        \n",
    "        mean = S/N;\n",
    "        \n",
    "        for it in xrange(L) :\n",
    "            \n",
    "            if mat_ui[l][it] == 0 :\n",
    "                \n",
    "                mat_ui[l][it] = mean\n",
    "                \n",
    "    \n",
    "    return mat_ui\n",
    "                \n",
    "\n",
    "#users, items = check_data(\"ml-100k/u.data\")\n",
    "\n",
    "\n",
    "arr = np.array( [[1,2,3],[4,5,6], [7,8,9]] )\n",
    "\n",
    "print np.mat(arr)\n",
    "\n",
    "arr2 = np.mat(np.ones((3,3)))\n",
    "\n",
    "print arr2\n",
    "\n",
    "print arr[1,2]\n",
    "print arr2[1,2]\n",
    "\n",
    "mat_u_i = np.mat(matrice_user_item(\"ml-100k/u.data\", 943, 1682))\n",
    "\n",
    "print mat_u_i\n",
    "\n",
    "mat_cu = remplissage_moyenne_user(mat_u_i)\n",
    "\n",
    "\n"
   ]
  },
  {
   "cell_type": "code",
   "execution_count": null,
   "metadata": {
    "collapsed": true
   },
   "outputs": [],
   "source": []
  },
  {
   "cell_type": "code",
   "execution_count": null,
   "metadata": {
    "collapsed": true
   },
   "outputs": [],
   "source": []
  }
 ],
 "metadata": {
  "kernelspec": {
   "display_name": "Python 2",
   "language": "python",
   "name": "python2"
  },
  "language_info": {
   "codemirror_mode": {
    "name": "ipython",
    "version": 2
   },
   "file_extension": ".py",
   "mimetype": "text/x-python",
   "name": "python",
   "nbconvert_exporter": "python",
   "pygments_lexer": "ipython2",
   "version": "2.7.10"
  }
 },
 "nbformat": 4,
 "nbformat_minor": 0
}
